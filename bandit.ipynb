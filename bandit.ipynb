{
 "cells": [
  {
   "cell_type": "code",
   "execution_count": 1,
   "metadata": {},
   "outputs": [],
   "source": [
    "from random import gauss, randrange, choice, random\n",
    "import numpy as np\n",
    "import matplotlib.pyplot as plt"
   ]
  },
  {
   "cell_type": "code",
   "execution_count": 2,
   "metadata": {},
   "outputs": [
    {
     "name": "stdout",
     "output_type": "stream",
     "text": [
      "0.5063682122220925\n"
     ]
    }
   ],
   "source": [
    "def create_rewards(k=10):\n",
    "    rewards = {}\n",
    "    for i in range(k):\n",
    "        q = gauss(0, 1)\n",
    "        rewards[i] = q\n",
    "        \n",
    "    return rewards\n",
    "\n",
    "rewards = create_rewards(20)\n",
    "print(rewards[12])"
   ]
  },
  {
   "cell_type": "code",
   "execution_count": 3,
   "metadata": {},
   "outputs": [
    {
     "name": "stdout",
     "output_type": "stream",
     "text": [
      "{0: 18, 1: 29, 2: 911, 3: 22, 4: 20}\n"
     ]
    }
   ],
   "source": [
    "def choose_action(A, eps=0):\n",
    "    greedy = max(A, key=A.get)\n",
    "    action = greedy\n",
    "    if random() < eps:\n",
    "        while action == greedy:\n",
    "            action = choice(list(A.keys()))\n",
    "    return action\n",
    "\n",
    "A = {\n",
    "    0: 1,\n",
    "    1: 2,\n",
    "    2: 6,\n",
    "    3: 2,\n",
    "    4: 1\n",
    "}\n",
    "\n",
    "choices = []\n",
    "for i in range(1000):\n",
    "    choices.append(choose_action(A, 0.1))\n",
    "    \n",
    "chosen = {\n",
    "    0: 0,\n",
    "    1: 0,\n",
    "    2: 0,\n",
    "    3: 0,\n",
    "    4: 0\n",
    "}\n",
    "\n",
    "for choice_ in choices:\n",
    "    chosen[choice_] += 1\n",
    "    \n",
    "print(chosen)"
   ]
  },
  {
   "cell_type": "code",
   "execution_count": 4,
   "metadata": {},
   "outputs": [
    {
     "name": "stdout",
     "output_type": "stream",
     "text": [
      "-1.461234634607635\n"
     ]
    }
   ],
   "source": [
    "def collect_reward(a, rewards, sig=1):\n",
    "    q = rewards[a]\n",
    "    reward = gauss(0, sig) + q\n",
    "    \n",
    "    return reward\n",
    "\n",
    "total = 0\n",
    "rewards = create_rewards(20)\n",
    "for i in range(100000):\n",
    "    total += collect_reward(12, rewards)\n",
    "\n",
    "print(total / 100000)"
   ]
  },
  {
   "cell_type": "code",
   "execution_count": 5,
   "metadata": {},
   "outputs": [],
   "source": [
    "def evaluate_action_value(a, history):\n",
    "    times_taken = 0\n",
    "    total_reward = 0\n",
    "    for time_step in history:\n",
    "        if a == time_step['a']:\n",
    "            times_taken += 1\n",
    "            total_reward += time_step['r']\n",
    "            \n",
    "    if times_taken == 0:\n",
    "        return 0\n",
    "    \n",
    "    return total_reward / times_taken"
   ]
  },
  {
   "cell_type": "code",
   "execution_count": 6,
   "metadata": {},
   "outputs": [
    {
     "name": "stdout",
     "output_type": "stream",
     "text": [
      "0.24990285697577566\n",
      "1.620849549350162\n",
      "1.5022658769195905\n",
      "0.7100611094920538\n",
      "-0.1237303917222044\n",
      "-1.8444606836139428\n",
      "-0.535612193386553\n",
      "0.13682358407713413\n",
      "-0.5657146201729129\n",
      "0.2962187571863397\n"
     ]
    }
   ],
   "source": [
    "def learn(k=10, eps=0, steps=1, sig=1):\n",
    "    rewards = create_rewards(k)\n",
    "    A = {a: 0 for a in range(k)}\n",
    "    history = []\n",
    "    for step in range(steps):\n",
    "        a = choose_action(A, eps)\n",
    "        reward = collect_reward(a, rewards, sig)\n",
    "        history.append({\n",
    "            'a': a,\n",
    "            'r': reward\n",
    "        })\n",
    "        A[a] = evaluate_action_value(a, history)\n",
    "        \n",
    "    rewards = [step['r'] for step in history]\n",
    "    return rewards\n",
    "\n",
    "rewards = learn(10, eps=0.1, steps=100)\n",
    "for reward in rewards[:10]:\n",
    "    print(reward)"
   ]
  },
  {
   "cell_type": "code",
   "execution_count": 7,
   "metadata": {},
   "outputs": [],
   "source": [
    "def create_histories(k=10, epss=[0, 0.01, 0.1], steps=1000, runs=2000, sig=1):\n",
    "    histories = {}\n",
    "    for eps in epss:\n",
    "        histories[eps] = np.zeros((runs, steps))\n",
    "        for run in range(runs):\n",
    "            \n",
    "            history = learn(k, eps, steps, sig)\n",
    "            histories[eps][run] = history\n",
    "        \n",
    "        histories[eps] = np.average(histories[eps], axis=0)\n",
    "    \n",
    "    return histories"
   ]
  },
  {
   "cell_type": "code",
   "execution_count": 8,
   "metadata": {},
   "outputs": [],
   "source": [
    "k = 10\n",
    "epss = [0, 0.01, 0.03, 0.1, 0.5]\n",
    "steps = 1000\n",
    "runs = 2000\n",
    "sig = 1"
   ]
  },
  {
   "cell_type": "code",
   "execution_count": null,
   "metadata": {},
   "outputs": [],
   "source": [
    "histories = create_histories(k, epss, steps, runs, sig)"
   ]
  },
  {
   "cell_type": "code",
   "execution_count": null,
   "metadata": {},
   "outputs": [],
   "source": [
    "for eps, rewards in histories.items():\n",
    "    plt.plot(rewards, label=eps)\n",
    "plt.legend()\n",
    "plt.show()"
   ]
  }
 ],
 "metadata": {
  "kernelspec": {
   "display_name": "Python 3",
   "language": "python",
   "name": "python3"
  },
  "language_info": {
   "codemirror_mode": {
    "name": "ipython",
    "version": 3
   },
   "file_extension": ".py",
   "mimetype": "text/x-python",
   "name": "python",
   "nbconvert_exporter": "python",
   "pygments_lexer": "ipython3",
   "version": "3.6.9"
  }
 },
 "nbformat": 4,
 "nbformat_minor": 4
}
