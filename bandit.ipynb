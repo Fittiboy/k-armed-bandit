{
 "cells": [
  {
   "cell_type": "code",
   "execution_count": 1,
   "metadata": {},
   "outputs": [],
   "source": [
    "from random import gauss, randrange, choice, random\n",
    "import numpy as np\n",
    "import matplotlib.pyplot as plt"
   ]
  },
  {
   "cell_type": "code",
   "execution_count": 2,
   "metadata": {},
   "outputs": [
    {
     "name": "stdout",
     "output_type": "stream",
     "text": [
      "0.6524734259302745\n"
     ]
    }
   ],
   "source": [
    "def create_rewards(k=10):\n",
    "    rewards = {}\n",
    "    for i in range(k):\n",
    "        q = gauss(0, 1)\n",
    "        rewards[i] = q\n",
    "        \n",
    "    return rewards\n",
    "\n",
    "rewards = create_rewards(20)\n",
    "print(rewards[12])"
   ]
  },
  {
   "cell_type": "code",
   "execution_count": 3,
   "metadata": {},
   "outputs": [
    {
     "name": "stdout",
     "output_type": "stream",
     "text": [
      "{0: 28, 1: 19, 2: 894, 3: 32, 4: 27}\n"
     ]
    }
   ],
   "source": [
    "def choose_action(A, eps=0):\n",
    "    greedy = max(A, key=A.get)\n",
    "    action = greedy\n",
    "    if random() < eps:\n",
    "        while action == greedy:\n",
    "            action = choice(list(A.keys()))\n",
    "    return action\n",
    "\n",
    "A = {\n",
    "    0: 1,\n",
    "    1: 2,\n",
    "    2: 6,\n",
    "    3: 2,\n",
    "    4: 1\n",
    "}\n",
    "\n",
    "choices = []\n",
    "for i in range(1000):\n",
    "    choices.append(choose_action(A, 0.1))\n",
    "    \n",
    "chosen = {\n",
    "    0: 0,\n",
    "    1: 0,\n",
    "    2: 0,\n",
    "    3: 0,\n",
    "    4: 0\n",
    "}\n",
    "\n",
    "for choice_ in choices:\n",
    "    chosen[choice_] += 1\n",
    "    \n",
    "print(chosen)"
   ]
  },
  {
   "cell_type": "code",
   "execution_count": 4,
   "metadata": {},
   "outputs": [
    {
     "name": "stdout",
     "output_type": "stream",
     "text": [
      "-0.5366958003794026\n"
     ]
    }
   ],
   "source": [
    "def collect_reward(a, rewards, sig=1):\n",
    "    q = rewards[a]\n",
    "    reward = gauss(0, sig) + q\n",
    "    \n",
    "    return reward\n",
    "\n",
    "total = 0\n",
    "rewards = create_rewards(20)\n",
    "for i in range(100000):\n",
    "    total += collect_reward(12, rewards)\n",
    "\n",
    "print(total / 100000)"
   ]
  },
  {
   "cell_type": "code",
   "execution_count": 5,
   "metadata": {},
   "outputs": [],
   "source": [
    "def evaluate_action_value(Q, na, r):\n",
    "    if na == 0:\n",
    "        return 0\n",
    "    Q = Q + (1 / na) * (r - Q)\n",
    "    return Q"
   ]
  },
  {
   "cell_type": "code",
   "execution_count": 6,
   "metadata": {},
   "outputs": [
    {
     "name": "stdout",
     "output_type": "stream",
     "text": [
      "-0.663569246342672\n",
      "-1.1387704119566646\n",
      "2.2490563638311616\n",
      "3.7066270371792607\n",
      "3.9617362999044365\n",
      "-1.8563465053058894\n",
      "0.5439121730847993\n",
      "3.298498429896078\n",
      "1.8526366437561814\n",
      "1.7767947332117489\n"
     ]
    }
   ],
   "source": [
    "def learn(k=10, eps=0, steps=1, sig=1):\n",
    "    rewards = create_rewards(k)\n",
    "    A = {a: 0 for a in range(k)}\n",
    "    NA = {a: 0 for a in range(k)}\n",
    "    history = []\n",
    "    for step in range(steps):\n",
    "        a = choose_action(A, eps)\n",
    "        NA[a] += 1\n",
    "        reward = collect_reward(a, rewards, sig)\n",
    "        history.append({\n",
    "            'a': a,\n",
    "            'r': reward\n",
    "        })\n",
    "        A[a] = evaluate_action_value(A[a], NA[a], reward)\n",
    "        \n",
    "    rewards = [step['r'] for step in history]\n",
    "    return rewards\n",
    "\n",
    "rewards = learn(10, eps=0.1, steps=100)\n",
    "for reward in rewards[:10]:\n",
    "    print(reward)"
   ]
  },
  {
   "cell_type": "code",
   "execution_count": 7,
   "metadata": {},
   "outputs": [],
   "source": [
    "def create_histories(k=10, epss=[0, 0.01, 0.1], steps=1000, runs=2000, sig=1):\n",
    "    histories = {}\n",
    "    for eps in epss:\n",
    "        histories[eps] = np.zeros((runs, steps))\n",
    "        for run in range(runs):\n",
    "            \n",
    "            history = learn(k, eps, steps, sig)\n",
    "            histories[eps][run] = history\n",
    "        \n",
    "        histories[eps] = np.average(histories[eps], axis=0)\n",
    "    \n",
    "    return histories"
   ]
  },
  {
   "cell_type": "code",
   "execution_count": 8,
   "metadata": {},
   "outputs": [],
   "source": [
    "k = 10\n",
    "epss = [0, 0.01, 0.05]\n",
    "eps = 1 \n",
    "rates = [100, 5000]\n",
    "steps = 5000\n",
    "runs = 5000\n",
    "sig = 1"
   ]
  },
  {
   "cell_type": "code",
   "execution_count": 9,
   "metadata": {},
   "outputs": [],
   "source": [
    "histories = create_histories(k, epss, steps, runs, sig)"
   ]
  },
  {
   "cell_type": "code",
   "execution_count": 10,
   "metadata": {},
   "outputs": [
    {
     "data": {
      "image/png": "[encoded data removed]",
      "text/plain": [
       "<Figure size 432x288 with 1 Axes>"
      ]
     },
     "metadata": {
      "needs_background": "light"
     },
     "output_type": "display_data"
    }
   ],
   "source": [
    "for eps, rewards in histories.items():\n",
    "    plt.plot(rewards, label=eps)\n",
    "plt.legend()\n",
    "plt.show()"
   ]
  },
  {
   "cell_type": "code",
   "execution_count": 11,
   "metadata": {},
   "outputs": [
    {
     "name": "stdout",
     "output_type": "stream",
     "text": [
      "0.0316227766016838\n"
     ]
    }
   ],
   "source": [
    "def adjust_epsilon(eps, run, rates):\n",
    "    exponent = (-1 / rates[1]) * run\n",
    "    adjustment = rates[0] ** exponent\n",
    "    eps_adjusted = eps * adjustment\n",
    "    \n",
    "    return eps_adjusted\n",
    "\n",
    "print(adjust_epsilon(0.1, 1000, [10, 2000]))"
   ]
  },
  {
   "cell_type": "code",
   "execution_count": 12,
   "metadata": {},
   "outputs": [],
   "source": [
    "def create_histories_single(k=10, eps=0.1, rates=[10, 2000], steps=1000, runs=2000, sig=1):\n",
    "    history = np.zeros((runs, steps))\n",
    "    for run in range(runs):\n",
    "        eps_adjusted = adjust_epsilon(eps, run, rates)\n",
    "        rewards = learn(k, eps_adjusted, steps, sig)\n",
    "        history[run,:] = rewards\n",
    "        \n",
    "    history = np.average(history, axis=0)\n",
    "    \n",
    "    return history"
   ]
  },
  {
   "cell_type": "code",
   "execution_count": 13,
   "metadata": {},
   "outputs": [],
   "source": [
    "history = create_histories_single(k=k, eps=eps, rates=rates, steps=steps, runs=runs, sig=sig)"
   ]
  },
  {
   "cell_type": "code",
   "execution_count": 14,
   "metadata": {},
   "outputs": [
    {
     "data": {
      "image/png": "[encoded data removed]",
      "text/plain": [
       "<Figure size 432x288 with 1 Axes>"
      ]
     },
     "metadata": {
      "needs_background": "light"
     },
     "output_type": "display_data"
    }
   ],
   "source": [
    "for eps, rewards in histories.items():\n",
    "    plt.plot(rewards, label=eps)\n",
    "plt.plot(history, label=\"adj\")\n",
    "plt.xlabel(\"Steps\")\n",
    "plt.ylabel(\"Average reward\")\n",
    "plt.legend()\n",
    "plt.show()"
   ]
  }
 ],
 "metadata": {
  "kernelspec": {
   "display_name": "Python 3",
   "language": "python",
   "name": "python3"
  },
  "language_info": {
   "codemirror_mode": {
    "name": "ipython",
    "version": 3
   },
   "file_extension": ".py",
   "mimetype": "text/x-python",
   "name": "python",
   "nbconvert_exporter": "python",
   "pygments_lexer": "ipython3",
   "version": "3.6.9"
  }
 },
 "nbformat": 4,
 "nbformat_minor": 4
}
